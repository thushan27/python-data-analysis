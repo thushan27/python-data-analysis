{
 "cells": [
  {
   "cell_type": "code",
   "execution_count": 1,
   "metadata": {},
   "outputs": [],
   "source": [
    "\"\"\"\n",
    "Write a two-player Rock-Paper-Scissors game.\n",
    "1. Ask for the names and choices of 2 players (using raw_input),\n",
    "2. Use a for loop and multiple if statements to work out who won. HINT: You want a\n",
    "if/elif for every possible combination of choices.\n",
    "3. Print out a message of congratulations to the winner\n",
    "Note, make your program handle bad user input (e.g. spelling their choice incorrectly)\n",
    "\n",
    "Used getpass package and getpass function to hide input of either player\n",
    "\"\"\"\n",
    "\n",
    "import getpass\n",
    "def RockPaperScissors():\n",
    "    player1 = input(\"What's your name player 1? \")\n",
    "    move1 = getpass.getpass(\"What's your move player 1? \")\n",
    "    player2 = input(\"What's your name player 2? \")\n",
    "    move2 = getpass.getpass(\"What's your move player 2? \")\n",
    "    if move1 =='paper' and move2 =='rock':\n",
    "            print(player1 + \" chose \" + str(move1 )+ \" \" + player2 + \" chose \" + str(move2 )+ \" \" + \"congrats \" + player1)\n",
    "            RockPaperScissors()\n",
    "    elif move1 =='scissors' and move2 =='paper':\n",
    "            print(player1 + \" chose \" + str(move1 )+ \" \" + player2 + \" chose \" + str(move2)+ \" \" + \"congrats \" + player1)\n",
    "            RockPaperScissors()\n",
    "    elif move1 =='rock' and move2 =='scissors':\n",
    "            print(player1 + \" chose \" + str(move1 ) + \" \" + player2 + \" chose \" + str(move2) + \" \" + \"congrats \"+ player1)\n",
    "            RockPaperScissors()\n",
    "    elif move1 =='rock' and move2 =='paper':\n",
    "            print(player1 + \" chose \" + str(move1 ) + \" \" + player2 + \" chose \" + str(move2) + \" \" + \"congrats \" + player2)\n",
    "            RockPaperScissors()\n",
    "    elif move1 =='paper' and move2 =='scissors':\n",
    "             print(player1 + \" chose \" + str(move1 ) + \" \" + player2 + \" chose \" + str(move2) + \" \" + \"congrats \" + player2)\n",
    "             RockPaperScissors()\n",
    "    elif move1 =='scissors' and move2 =='rock':\n",
    "            print(player1 + \" chose \" + str(move1) + \" \" + player2 + \" chose \" + str(move2) + \" \" + \"congrats \" + player2)\n",
    "            RockPaperScissors()\n",
    "    elif move1 =='scissors' and move2 =='scissors':\n",
    "            print(player1 + \" chose \" + str(move1 ) + \" \" + player2 + \" chose \" + str(move2) + \" \" + \" so it is a draw\")\n",
    "            RockPaperScissors()\n",
    "    elif move1 =='rock' and move2 =='rock':\n",
    "            print(player1 + \" chose \" + str(move1 ) + \" \" + player2 + \" chose \" + str(move2) + \" \" + \" so it is a draw\")\n",
    "            RockPaperScissors()\n",
    "    elif move1 =='paper' and move2 =='paper':\n",
    "            print(player1 + \" chose \" + str(move1 ) + player2 + \" chose \" + str(move2) + \" so it is a draw\")\n",
    "            RockPaperScissors()\n",
    "    else:\n",
    "            print(\"Please input either 'rock','paper' or 'scissors'\" + \" \" + player1 +\" and/or \" + player2)\n",
    "            RockPaperScissors()"
   ]
  },
  {
   "cell_type": "code",
   "execution_count": null,
   "metadata": {},
   "outputs": [
    {
     "name": "stdout",
     "output_type": "stream",
     "text": [
      "What's your name player 1? t raj\n",
      "What's your move player 1? ········\n",
      "What's your name player 2? t raj 2\n",
      "What's your move player 2? ········\n",
      "t raj chose rock t raj 2 chose paper congrats t raj 2\n"
     ]
    }
   ],
   "source": [
    "RockPaperScissors()"
   ]
  },
  {
   "cell_type": "code",
   "execution_count": null,
   "metadata": {},
   "outputs": [],
   "source": []
  }
 ],
 "metadata": {
  "kernelspec": {
   "display_name": "Python 3",
   "language": "python",
   "name": "python3"
  },
  "language_info": {
   "codemirror_mode": {
    "name": "ipython",
    "version": 3
   },
   "file_extension": ".py",
   "mimetype": "text/x-python",
   "name": "python",
   "nbconvert_exporter": "python",
   "pygments_lexer": "ipython3",
   "version": "3.7.3"
  }
 },
 "nbformat": 4,
 "nbformat_minor": 2
}
