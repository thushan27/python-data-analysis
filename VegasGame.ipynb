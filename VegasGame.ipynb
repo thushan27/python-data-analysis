{
 "cells": [
  {
   "cell_type": "code",
   "execution_count": null,
   "metadata": {},
   "outputs": [],
   "source": [
    "\"\"\"\n",
    "Generate a random number between 1 and 9 (including 1 and 9). Ask the user to guess the\n",
    "number, then tell them whether they guessed too low, too high, or exactly right. \n",
    "Keep track of how many guesses the user has taken, and when the game ends, print this\n",
    "out.\n",
    "HINT use import random\n",
    "num = random.randint(1, 9) # this creates a random number between 1 and 9\n",
    "\"\"\"\n",
    "\n",
    "def VegasGame():\n",
    "    import random\n",
    "    number = random.randint(1,9)\n",
    "    count = 1\n",
    "    correct = False\n",
    "    while correct == False:\n",
    "        guess = input(\"Guess a number between one and nine: \")\n",
    "        if int(guess) == number:\n",
    "            correct = True\n",
    "            print(\"correct\")\n",
    "            print(\"Number of attempts: \" + str(count))\n",
    "            VegasGame()\n",
    "        elif int(guess) < number:\n",
    "            print(\"too low\")\n",
    "            count = count + 1\n",
    "        elif int(guess) > number:\n",
    "            print(\"too high\")\n",
    "            count = count + 1"
   ]
  },
  {
   "cell_type": "code",
   "execution_count": null,
   "metadata": {},
   "outputs": [
    {
     "name": "stdout",
     "output_type": "stream",
     "text": [
      "Guess a number between one and nine: 1\n",
      "too low\n",
      "Guess a number between one and nine: 9\n",
      "too high\n",
      "Guess a number between one and nine: 5\n",
      "too high\n",
      "Guess a number between one and nine: 4\n",
      "correct\n",
      "Number of attempts: 4\n"
     ]
    }
   ],
   "source": [
    "VegasGame()"
   ]
  }
 ],
 "metadata": {
  "kernelspec": {
   "display_name": "Python 3",
   "language": "python",
   "name": "python3"
  },
  "language_info": {
   "codemirror_mode": {
    "name": "ipython",
    "version": 3
   },
   "file_extension": ".py",
   "mimetype": "text/x-python",
   "name": "python",
   "nbconvert_exporter": "python",
   "pygments_lexer": "ipython3",
   "version": "3.7.3"
  }
 },
 "nbformat": 4,
 "nbformat_minor": 2
}
